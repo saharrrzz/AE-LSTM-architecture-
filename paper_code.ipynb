{
  "nbformat": 4,
  "nbformat_minor": 0,
  "metadata": {
    "colab": {
      "name": "paper_code.ipynb",
      "provenance": [],
      "collapsed_sections": [],
      "include_colab_link": true
    },
    "kernelspec": {
      "name": "python3",
      "display_name": "Python 3"
    },
    "language_info": {
      "name": "python"
    },
    "accelerator": "GPU"
  },
  "cells": [
    {
      "cell_type": "markdown",
      "metadata": {
        "id": "view-in-github",
        "colab_type": "text"
      },
      "source": [
        "<a href=\"https://colab.research.google.com/github/saharrrzz/AE-LSTM-architecture-/blob/master/paper_code.ipynb\" target=\"_parent\"><img src=\"https://colab.research.google.com/assets/colab-badge.svg\" alt=\"Open In Colab\"/></a>"
      ]
    },
    {
      "cell_type": "code",
      "metadata": {
        "id": "zW0vEKC45_vf"
      },
      "source": [
        "import pandas as pd\n",
        "import numpy as np\n",
        "import matplotlib.pyplot as plt\n",
        "import sklearn.preprocessing\n",
        "from numpy import nan\n",
        "from numpy import isnan\n",
        "from pandas import read_csv\n",
        "from pandas import to_numeric\n",
        "from keras.models import Sequential\n",
        "from keras.layers import Dense\n",
        "from keras.layers import Flatten\n",
        "from keras.layers import LSTM\n",
        "from keras.layers import RepeatVector\n",
        "from tensorflow import keras\n",
        "import math\n",
        "from keras.layers import Dropout\n",
        "from sklearn.metrics import mean_absolute_error\n",
        "from keras.layers import Bidirectional\n",
        "from sklearn.metrics import mean_squared_error,r2_score,mean_absolute_error\n",
        "from sklearn.preprocessing import MinMaxScaler"
      ],
      "execution_count": 2,
      "outputs": []
    },
    {
      "cell_type": "code",
      "metadata": {
        "colab": {
          "base_uri": "https://localhost:8080/"
        },
        "id": "4DiHL9_qvzYI",
        "outputId": "e855213c-b960-4977-f26e-1ee692a35867"
      },
      "source": [
        "from google.colab import drive\n",
        "drive.mount('/content/drive')"
      ],
      "execution_count": 4,
      "outputs": [
        {
          "output_type": "stream",
          "name": "stdout",
          "text": [
            "Mounted at /content/drive\n"
          ]
        }
      ]
    },
    {
      "cell_type": "markdown",
      "metadata": {
        "id": "yW3AF9TI6hNC"
      },
      "source": [
        "**Load Data**"
      ]
    },
    {
      "cell_type": "code",
      "metadata": {
        "id": "3HDaZ4mb6jhw",
        "colab": {
          "base_uri": "https://localhost:8080/",
          "height": 450
        },
        "outputId": "df4db2f0-428e-4b09-b78a-d31dd342c923"
      },
      "source": [
        "df = read_csv('drive/MyDrive/House_Hold_dataset/household_power_consumption.txt', sep=';', header=0, low_memory=False, infer_datetime_format=True, parse_dates={'datetime':[0,1]}, index_col=['datetime'])\n",
        "df.replace('?', nan, inplace=True)\n",
        "df = df.astype('float32')\n",
        "df"
      ],
      "execution_count": 57,
      "outputs": [
        {
          "output_type": "execute_result",
          "data": {
            "text/html": [
              "<div>\n",
              "<style scoped>\n",
              "    .dataframe tbody tr th:only-of-type {\n",
              "        vertical-align: middle;\n",
              "    }\n",
              "\n",
              "    .dataframe tbody tr th {\n",
              "        vertical-align: top;\n",
              "    }\n",
              "\n",
              "    .dataframe thead th {\n",
              "        text-align: right;\n",
              "    }\n",
              "</style>\n",
              "<table border=\"1\" class=\"dataframe\">\n",
              "  <thead>\n",
              "    <tr style=\"text-align: right;\">\n",
              "      <th></th>\n",
              "      <th>Global_active_power</th>\n",
              "      <th>Global_reactive_power</th>\n",
              "      <th>Voltage</th>\n",
              "      <th>Global_intensity</th>\n",
              "      <th>Sub_metering_1</th>\n",
              "      <th>Sub_metering_2</th>\n",
              "      <th>Sub_metering_3</th>\n",
              "    </tr>\n",
              "    <tr>\n",
              "      <th>datetime</th>\n",
              "      <th></th>\n",
              "      <th></th>\n",
              "      <th></th>\n",
              "      <th></th>\n",
              "      <th></th>\n",
              "      <th></th>\n",
              "      <th></th>\n",
              "    </tr>\n",
              "  </thead>\n",
              "  <tbody>\n",
              "    <tr>\n",
              "      <th>2006-12-16 17:24:00</th>\n",
              "      <td>4.216</td>\n",
              "      <td>0.418</td>\n",
              "      <td>234.839996</td>\n",
              "      <td>18.4</td>\n",
              "      <td>0.0</td>\n",
              "      <td>1.0</td>\n",
              "      <td>17.0</td>\n",
              "    </tr>\n",
              "    <tr>\n",
              "      <th>2006-12-16 17:25:00</th>\n",
              "      <td>5.360</td>\n",
              "      <td>0.436</td>\n",
              "      <td>233.630005</td>\n",
              "      <td>23.0</td>\n",
              "      <td>0.0</td>\n",
              "      <td>1.0</td>\n",
              "      <td>16.0</td>\n",
              "    </tr>\n",
              "    <tr>\n",
              "      <th>2006-12-16 17:26:00</th>\n",
              "      <td>5.374</td>\n",
              "      <td>0.498</td>\n",
              "      <td>233.289993</td>\n",
              "      <td>23.0</td>\n",
              "      <td>0.0</td>\n",
              "      <td>2.0</td>\n",
              "      <td>17.0</td>\n",
              "    </tr>\n",
              "    <tr>\n",
              "      <th>2006-12-16 17:27:00</th>\n",
              "      <td>5.388</td>\n",
              "      <td>0.502</td>\n",
              "      <td>233.740005</td>\n",
              "      <td>23.0</td>\n",
              "      <td>0.0</td>\n",
              "      <td>1.0</td>\n",
              "      <td>17.0</td>\n",
              "    </tr>\n",
              "    <tr>\n",
              "      <th>2006-12-16 17:28:00</th>\n",
              "      <td>3.666</td>\n",
              "      <td>0.528</td>\n",
              "      <td>235.679993</td>\n",
              "      <td>15.8</td>\n",
              "      <td>0.0</td>\n",
              "      <td>1.0</td>\n",
              "      <td>17.0</td>\n",
              "    </tr>\n",
              "    <tr>\n",
              "      <th>...</th>\n",
              "      <td>...</td>\n",
              "      <td>...</td>\n",
              "      <td>...</td>\n",
              "      <td>...</td>\n",
              "      <td>...</td>\n",
              "      <td>...</td>\n",
              "      <td>...</td>\n",
              "    </tr>\n",
              "    <tr>\n",
              "      <th>2010-11-26 20:58:00</th>\n",
              "      <td>0.946</td>\n",
              "      <td>0.000</td>\n",
              "      <td>240.429993</td>\n",
              "      <td>4.0</td>\n",
              "      <td>0.0</td>\n",
              "      <td>0.0</td>\n",
              "      <td>0.0</td>\n",
              "    </tr>\n",
              "    <tr>\n",
              "      <th>2010-11-26 20:59:00</th>\n",
              "      <td>0.944</td>\n",
              "      <td>0.000</td>\n",
              "      <td>240.000000</td>\n",
              "      <td>4.0</td>\n",
              "      <td>0.0</td>\n",
              "      <td>0.0</td>\n",
              "      <td>0.0</td>\n",
              "    </tr>\n",
              "    <tr>\n",
              "      <th>2010-11-26 21:00:00</th>\n",
              "      <td>0.938</td>\n",
              "      <td>0.000</td>\n",
              "      <td>239.820007</td>\n",
              "      <td>3.8</td>\n",
              "      <td>0.0</td>\n",
              "      <td>0.0</td>\n",
              "      <td>0.0</td>\n",
              "    </tr>\n",
              "    <tr>\n",
              "      <th>2010-11-26 21:01:00</th>\n",
              "      <td>0.934</td>\n",
              "      <td>0.000</td>\n",
              "      <td>239.699997</td>\n",
              "      <td>3.8</td>\n",
              "      <td>0.0</td>\n",
              "      <td>0.0</td>\n",
              "      <td>0.0</td>\n",
              "    </tr>\n",
              "    <tr>\n",
              "      <th>2010-11-26 21:02:00</th>\n",
              "      <td>0.932</td>\n",
              "      <td>0.000</td>\n",
              "      <td>239.550003</td>\n",
              "      <td>3.8</td>\n",
              "      <td>0.0</td>\n",
              "      <td>0.0</td>\n",
              "      <td>0.0</td>\n",
              "    </tr>\n",
              "  </tbody>\n",
              "</table>\n",
              "<p>2075259 rows × 7 columns</p>\n",
              "</div>"
            ],
            "text/plain": [
              "                     Global_active_power  ...  Sub_metering_3\n",
              "datetime                                  ...                \n",
              "2006-12-16 17:24:00                4.216  ...            17.0\n",
              "2006-12-16 17:25:00                5.360  ...            16.0\n",
              "2006-12-16 17:26:00                5.374  ...            17.0\n",
              "2006-12-16 17:27:00                5.388  ...            17.0\n",
              "2006-12-16 17:28:00                3.666  ...            17.0\n",
              "...                                  ...  ...             ...\n",
              "2010-11-26 20:58:00                0.946  ...             0.0\n",
              "2010-11-26 20:59:00                0.944  ...             0.0\n",
              "2010-11-26 21:00:00                0.938  ...             0.0\n",
              "2010-11-26 21:01:00                0.934  ...             0.0\n",
              "2010-11-26 21:02:00                0.932  ...             0.0\n",
              "\n",
              "[2075259 rows x 7 columns]"
            ]
          },
          "metadata": {},
          "execution_count": 57
        }
      ]
    },
    {
      "cell_type": "markdown",
      "metadata": {
        "id": "4lavu5B265DX"
      },
      "source": [
        "**filling missing data**"
      ]
    },
    {
      "cell_type": "code",
      "metadata": {
        "id": "LNubB7w068UH"
      },
      "source": [
        "def fill_missing(values):\n",
        "  one_day = 60 * 24\n",
        "  for row in range(values.shape[0]):\n",
        "    for col in range(values.shape[1]):\n",
        "      if isnan(values[row, col]): \n",
        "      \tvalues[row, col] = (values[row - one_day, col]) "
      ],
      "execution_count": 58,
      "outputs": []
    },
    {
      "cell_type": "code",
      "metadata": {
        "colab": {
          "base_uri": "https://localhost:8080/",
          "height": 80
        },
        "id": "A1dLMYnExwhR",
        "outputId": "6c87fe7c-d6c5-410f-d64c-9e73f5835934"
      },
      "source": [
        "fill_missing(df.values)\n",
        "df[df['Global_active_power'].isnull()]        "
      ],
      "execution_count": 59,
      "outputs": [
        {
          "output_type": "execute_result",
          "data": {
            "text/html": [
              "<div>\n",
              "<style scoped>\n",
              "    .dataframe tbody tr th:only-of-type {\n",
              "        vertical-align: middle;\n",
              "    }\n",
              "\n",
              "    .dataframe tbody tr th {\n",
              "        vertical-align: top;\n",
              "    }\n",
              "\n",
              "    .dataframe thead th {\n",
              "        text-align: right;\n",
              "    }\n",
              "</style>\n",
              "<table border=\"1\" class=\"dataframe\">\n",
              "  <thead>\n",
              "    <tr style=\"text-align: right;\">\n",
              "      <th></th>\n",
              "      <th>Global_active_power</th>\n",
              "      <th>Global_reactive_power</th>\n",
              "      <th>Voltage</th>\n",
              "      <th>Global_intensity</th>\n",
              "      <th>Sub_metering_1</th>\n",
              "      <th>Sub_metering_2</th>\n",
              "      <th>Sub_metering_3</th>\n",
              "    </tr>\n",
              "    <tr>\n",
              "      <th>datetime</th>\n",
              "      <th></th>\n",
              "      <th></th>\n",
              "      <th></th>\n",
              "      <th></th>\n",
              "      <th></th>\n",
              "      <th></th>\n",
              "      <th></th>\n",
              "    </tr>\n",
              "  </thead>\n",
              "  <tbody>\n",
              "  </tbody>\n",
              "</table>\n",
              "</div>"
            ],
            "text/plain": [
              "Empty DataFrame\n",
              "Columns: [Global_active_power, Global_reactive_power, Voltage, Global_intensity, Sub_metering_1, Sub_metering_2, Sub_metering_3]\n",
              "Index: []"
            ]
          },
          "metadata": {},
          "execution_count": 59
        }
      ]
    },
    {
      "cell_type": "markdown",
      "metadata": {
        "id": "NZb3niMV7MSX"
      },
      "source": [
        "**Daily data**"
      ]
    },
    {
      "cell_type": "code",
      "metadata": {
        "id": "HqLvIANA7OtJ",
        "colab": {
          "base_uri": "https://localhost:8080/",
          "height": 450
        },
        "outputId": "d88be524-68e0-452b-962b-7c2aab2c019f"
      },
      "source": [
        "daily_groups = df.resample('D')\n",
        "daily_data = daily_groups.sum()\n",
        "daily_data"
      ],
      "execution_count": 60,
      "outputs": [
        {
          "output_type": "execute_result",
          "data": {
            "text/html": [
              "<div>\n",
              "<style scoped>\n",
              "    .dataframe tbody tr th:only-of-type {\n",
              "        vertical-align: middle;\n",
              "    }\n",
              "\n",
              "    .dataframe tbody tr th {\n",
              "        vertical-align: top;\n",
              "    }\n",
              "\n",
              "    .dataframe thead th {\n",
              "        text-align: right;\n",
              "    }\n",
              "</style>\n",
              "<table border=\"1\" class=\"dataframe\">\n",
              "  <thead>\n",
              "    <tr style=\"text-align: right;\">\n",
              "      <th></th>\n",
              "      <th>Global_active_power</th>\n",
              "      <th>Global_reactive_power</th>\n",
              "      <th>Voltage</th>\n",
              "      <th>Global_intensity</th>\n",
              "      <th>Sub_metering_1</th>\n",
              "      <th>Sub_metering_2</th>\n",
              "      <th>Sub_metering_3</th>\n",
              "    </tr>\n",
              "    <tr>\n",
              "      <th>datetime</th>\n",
              "      <th></th>\n",
              "      <th></th>\n",
              "      <th></th>\n",
              "      <th></th>\n",
              "      <th></th>\n",
              "      <th></th>\n",
              "      <th></th>\n",
              "    </tr>\n",
              "  </thead>\n",
              "  <tbody>\n",
              "    <tr>\n",
              "      <th>2006-12-16</th>\n",
              "      <td>1209.176025</td>\n",
              "      <td>34.922001</td>\n",
              "      <td>93552.53125</td>\n",
              "      <td>5180.799805</td>\n",
              "      <td>0.0</td>\n",
              "      <td>546.0</td>\n",
              "      <td>4926.0</td>\n",
              "    </tr>\n",
              "    <tr>\n",
              "      <th>2006-12-17</th>\n",
              "      <td>3390.459961</td>\n",
              "      <td>226.005997</td>\n",
              "      <td>345725.31250</td>\n",
              "      <td>14398.599609</td>\n",
              "      <td>2033.0</td>\n",
              "      <td>4187.0</td>\n",
              "      <td>13341.0</td>\n",
              "    </tr>\n",
              "    <tr>\n",
              "      <th>2006-12-18</th>\n",
              "      <td>2203.825928</td>\n",
              "      <td>161.792007</td>\n",
              "      <td>347373.62500</td>\n",
              "      <td>9247.200195</td>\n",
              "      <td>1063.0</td>\n",
              "      <td>2621.0</td>\n",
              "      <td>14018.0</td>\n",
              "    </tr>\n",
              "    <tr>\n",
              "      <th>2006-12-19</th>\n",
              "      <td>1666.193970</td>\n",
              "      <td>150.942001</td>\n",
              "      <td>348479.00000</td>\n",
              "      <td>7094.000000</td>\n",
              "      <td>839.0</td>\n",
              "      <td>7602.0</td>\n",
              "      <td>6197.0</td>\n",
              "    </tr>\n",
              "    <tr>\n",
              "      <th>2006-12-20</th>\n",
              "      <td>2225.748047</td>\n",
              "      <td>160.998001</td>\n",
              "      <td>348923.62500</td>\n",
              "      <td>9313.000000</td>\n",
              "      <td>0.0</td>\n",
              "      <td>2648.0</td>\n",
              "      <td>14063.0</td>\n",
              "    </tr>\n",
              "    <tr>\n",
              "      <th>...</th>\n",
              "      <td>...</td>\n",
              "      <td>...</td>\n",
              "      <td>...</td>\n",
              "      <td>...</td>\n",
              "      <td>...</td>\n",
              "      <td>...</td>\n",
              "      <td>...</td>\n",
              "    </tr>\n",
              "    <tr>\n",
              "      <th>2010-11-22</th>\n",
              "      <td>2041.536011</td>\n",
              "      <td>142.354004</td>\n",
              "      <td>345883.84375</td>\n",
              "      <td>8660.400391</td>\n",
              "      <td>4855.0</td>\n",
              "      <td>2110.0</td>\n",
              "      <td>10136.0</td>\n",
              "    </tr>\n",
              "    <tr>\n",
              "      <th>2010-11-23</th>\n",
              "      <td>1577.536011</td>\n",
              "      <td>137.449997</td>\n",
              "      <td>346428.75000</td>\n",
              "      <td>6731.200195</td>\n",
              "      <td>1871.0</td>\n",
              "      <td>458.0</td>\n",
              "      <td>7611.0</td>\n",
              "    </tr>\n",
              "    <tr>\n",
              "      <th>2010-11-24</th>\n",
              "      <td>1796.248047</td>\n",
              "      <td>132.460007</td>\n",
              "      <td>345644.59375</td>\n",
              "      <td>7559.399902</td>\n",
              "      <td>1096.0</td>\n",
              "      <td>2848.0</td>\n",
              "      <td>12224.0</td>\n",
              "    </tr>\n",
              "    <tr>\n",
              "      <th>2010-11-25</th>\n",
              "      <td>1431.163940</td>\n",
              "      <td>116.127998</td>\n",
              "      <td>347812.21875</td>\n",
              "      <td>6004.000000</td>\n",
              "      <td>1076.0</td>\n",
              "      <td>426.0</td>\n",
              "      <td>5072.0</td>\n",
              "    </tr>\n",
              "    <tr>\n",
              "      <th>2010-11-26</th>\n",
              "      <td>1488.104004</td>\n",
              "      <td>120.826004</td>\n",
              "      <td>303487.56250</td>\n",
              "      <td>6259.799805</td>\n",
              "      <td>1080.0</td>\n",
              "      <td>385.0</td>\n",
              "      <td>9989.0</td>\n",
              "    </tr>\n",
              "  </tbody>\n",
              "</table>\n",
              "<p>1442 rows × 7 columns</p>\n",
              "</div>"
            ],
            "text/plain": [
              "            Global_active_power  ...  Sub_metering_3\n",
              "datetime                         ...                \n",
              "2006-12-16          1209.176025  ...          4926.0\n",
              "2006-12-17          3390.459961  ...         13341.0\n",
              "2006-12-18          2203.825928  ...         14018.0\n",
              "2006-12-19          1666.193970  ...          6197.0\n",
              "2006-12-20          2225.748047  ...         14063.0\n",
              "...                         ...  ...             ...\n",
              "2010-11-22          2041.536011  ...         10136.0\n",
              "2010-11-23          1577.536011  ...          7611.0\n",
              "2010-11-24          1796.248047  ...         12224.0\n",
              "2010-11-25          1431.163940  ...          5072.0\n",
              "2010-11-26          1488.104004  ...          9989.0\n",
              "\n",
              "[1442 rows x 7 columns]"
            ]
          },
          "metadata": {},
          "execution_count": 60
        }
      ]
    },
    {
      "cell_type": "code",
      "metadata": {
        "id": "qbcI3tfr7VZG",
        "colab": {
          "base_uri": "https://localhost:8080/",
          "height": 521
        },
        "outputId": "c5fde0ad-6fe7-4c22-8ff4-20555d65f0b8"
      },
      "source": [
        "plt.figure(figsize=(16,8))\n",
        "plt.title(\"daily power consumption\")\n",
        "plt.plot(daily_data['Global_active_power'])\n",
        "plt.xlabel('Date',fontsize = 18 )\n",
        "plt.ylabel('Global Active power',fontsize = 18 )\n",
        "plt.show()"
      ],
      "execution_count": 61,
      "outputs": [
        {
          "output_type": "display_data",
          "data": {
            "image/png": "[encoded data removed]",
            "text/plain": [
              "<Figure size 1152x576 with 1 Axes>"
            ]
          },
          "metadata": {
            "needs_background": "light"
          }
        }
      ]
    },
    {
      "cell_type": "markdown",
      "metadata": {
        "id": "8Sk_UaTs7YKe"
      },
      "source": [
        "**Hourly Data**"
      ]
    },
    {
      "cell_type": "code",
      "metadata": {
        "id": "sgTjSCRW7cKV",
        "colab": {
          "base_uri": "https://localhost:8080/",
          "height": 450
        },
        "outputId": "200deb2b-96f6-43dc-a5bd-396b5d440525"
      },
      "source": [
        "Hourly_groups = df.resample('H')\n",
        "Hourly_data = Hourly_groups.sum()\n",
        "Hourly_data"
      ],
      "execution_count": 62,
      "outputs": [
        {
          "output_type": "execute_result",
          "data": {
            "text/html": [
              "<div>\n",
              "<style scoped>\n",
              "    .dataframe tbody tr th:only-of-type {\n",
              "        vertical-align: middle;\n",
              "    }\n",
              "\n",
              "    .dataframe tbody tr th {\n",
              "        vertical-align: top;\n",
              "    }\n",
              "\n",
              "    .dataframe thead th {\n",
              "        text-align: right;\n",
              "    }\n",
              "</style>\n",
              "<table border=\"1\" class=\"dataframe\">\n",
              "  <thead>\n",
              "    <tr style=\"text-align: right;\">\n",
              "      <th></th>\n",
              "      <th>Global_active_power</th>\n",
              "      <th>Global_reactive_power</th>\n",
              "      <th>Voltage</th>\n",
              "      <th>Global_intensity</th>\n",
              "      <th>Sub_metering_1</th>\n",
              "      <th>Sub_metering_2</th>\n",
              "      <th>Sub_metering_3</th>\n",
              "    </tr>\n",
              "    <tr>\n",
              "      <th>datetime</th>\n",
              "      <th></th>\n",
              "      <th></th>\n",
              "      <th></th>\n",
              "      <th></th>\n",
              "      <th></th>\n",
              "      <th></th>\n",
              "      <th></th>\n",
              "    </tr>\n",
              "  </thead>\n",
              "  <tbody>\n",
              "    <tr>\n",
              "      <th>2006-12-16 17:00:00</th>\n",
              "      <td>152.024002</td>\n",
              "      <td>8.243999</td>\n",
              "      <td>8447.179688</td>\n",
              "      <td>651.599976</td>\n",
              "      <td>0.0</td>\n",
              "      <td>19.0</td>\n",
              "      <td>607.0</td>\n",
              "    </tr>\n",
              "    <tr>\n",
              "      <th>2006-12-16 18:00:00</th>\n",
              "      <td>217.932007</td>\n",
              "      <td>4.802000</td>\n",
              "      <td>14074.809570</td>\n",
              "      <td>936.000000</td>\n",
              "      <td>0.0</td>\n",
              "      <td>403.0</td>\n",
              "      <td>1012.0</td>\n",
              "    </tr>\n",
              "    <tr>\n",
              "      <th>2006-12-16 19:00:00</th>\n",
              "      <td>204.013992</td>\n",
              "      <td>5.114000</td>\n",
              "      <td>13993.950195</td>\n",
              "      <td>870.200012</td>\n",
              "      <td>0.0</td>\n",
              "      <td>86.0</td>\n",
              "      <td>1001.0</td>\n",
              "    </tr>\n",
              "    <tr>\n",
              "      <th>2006-12-16 20:00:00</th>\n",
              "      <td>196.113998</td>\n",
              "      <td>4.506000</td>\n",
              "      <td>14044.290039</td>\n",
              "      <td>835.000000</td>\n",
              "      <td>0.0</td>\n",
              "      <td>0.0</td>\n",
              "      <td>1007.0</td>\n",
              "    </tr>\n",
              "    <tr>\n",
              "      <th>2006-12-16 21:00:00</th>\n",
              "      <td>183.388000</td>\n",
              "      <td>4.600000</td>\n",
              "      <td>14229.519531</td>\n",
              "      <td>782.799988</td>\n",
              "      <td>0.0</td>\n",
              "      <td>25.0</td>\n",
              "      <td>1033.0</td>\n",
              "    </tr>\n",
              "    <tr>\n",
              "      <th>...</th>\n",
              "      <td>...</td>\n",
              "      <td>...</td>\n",
              "      <td>...</td>\n",
              "      <td>...</td>\n",
              "      <td>...</td>\n",
              "      <td>...</td>\n",
              "      <td>...</td>\n",
              "    </tr>\n",
              "    <tr>\n",
              "      <th>2010-11-26 17:00:00</th>\n",
              "      <td>103.554001</td>\n",
              "      <td>3.684000</td>\n",
              "      <td>14224.179688</td>\n",
              "      <td>433.000000</td>\n",
              "      <td>0.0</td>\n",
              "      <td>0.0</td>\n",
              "      <td>772.0</td>\n",
              "    </tr>\n",
              "    <tr>\n",
              "      <th>2010-11-26 18:00:00</th>\n",
              "      <td>94.407997</td>\n",
              "      <td>3.222000</td>\n",
              "      <td>14251.910156</td>\n",
              "      <td>397.200012</td>\n",
              "      <td>0.0</td>\n",
              "      <td>0.0</td>\n",
              "      <td>0.0</td>\n",
              "    </tr>\n",
              "    <tr>\n",
              "      <th>2010-11-26 19:00:00</th>\n",
              "      <td>99.559998</td>\n",
              "      <td>3.602000</td>\n",
              "      <td>14204.459961</td>\n",
              "      <td>423.399994</td>\n",
              "      <td>0.0</td>\n",
              "      <td>4.0</td>\n",
              "      <td>0.0</td>\n",
              "    </tr>\n",
              "    <tr>\n",
              "      <th>2010-11-26 20:00:00</th>\n",
              "      <td>69.821999</td>\n",
              "      <td>3.670000</td>\n",
              "      <td>14363.759766</td>\n",
              "      <td>294.799988</td>\n",
              "      <td>0.0</td>\n",
              "      <td>64.0</td>\n",
              "      <td>0.0</td>\n",
              "    </tr>\n",
              "    <tr>\n",
              "      <th>2010-11-26 21:00:00</th>\n",
              "      <td>2.804000</td>\n",
              "      <td>0.000000</td>\n",
              "      <td>719.070007</td>\n",
              "      <td>11.400000</td>\n",
              "      <td>0.0</td>\n",
              "      <td>0.0</td>\n",
              "      <td>0.0</td>\n",
              "    </tr>\n",
              "  </tbody>\n",
              "</table>\n",
              "<p>34589 rows × 7 columns</p>\n",
              "</div>"
            ],
            "text/plain": [
              "                     Global_active_power  ...  Sub_metering_3\n",
              "datetime                                  ...                \n",
              "2006-12-16 17:00:00           152.024002  ...           607.0\n",
              "2006-12-16 18:00:00           217.932007  ...          1012.0\n",
              "2006-12-16 19:00:00           204.013992  ...          1001.0\n",
              "2006-12-16 20:00:00           196.113998  ...          1007.0\n",
              "2006-12-16 21:00:00           183.388000  ...          1033.0\n",
              "...                                  ...  ...             ...\n",
              "2010-11-26 17:00:00           103.554001  ...           772.0\n",
              "2010-11-26 18:00:00            94.407997  ...             0.0\n",
              "2010-11-26 19:00:00            99.559998  ...             0.0\n",
              "2010-11-26 20:00:00            69.821999  ...             0.0\n",
              "2010-11-26 21:00:00             2.804000  ...             0.0\n",
              "\n",
              "[34589 rows x 7 columns]"
            ]
          },
          "metadata": {},
          "execution_count": 62
        }
      ]
    },
    {
      "cell_type": "code",
      "metadata": {
        "id": "tiD6CplC7f4F",
        "colab": {
          "base_uri": "https://localhost:8080/",
          "height": 521
        },
        "outputId": "cb9c05a7-aee9-4baa-84bc-1a7b3f40c802"
      },
      "source": [
        "plt.figure(figsize=(16,8))\n",
        "plt.title(\"Hourly power consumption\")\n",
        "plt.plot(Hourly_data['Global_active_power'])\n",
        "plt.xlabel('Date',fontsize = 18 )\n",
        "plt.ylabel('Global Active power',fontsize = 18 )\n",
        "plt.show()"
      ],
      "execution_count": 63,
      "outputs": [
        {
          "output_type": "display_data",
          "data": {
            "image/png": "[encoded data removed]",
            "text/plain": [
              "<Figure size 1152x576 with 1 Axes>"
            ]
          },
          "metadata": {
            "needs_background": "light"
          }
        }
      ]
    },
    {
      "cell_type": "markdown",
      "metadata": {
        "id": "bJEWzFKS757p"
      },
      "source": [
        "**Split data to test and train**"
      ]
    },
    {
      "cell_type": "code",
      "metadata": {
        "id": "U7SIWXch79vO",
        "colab": {
          "base_uri": "https://localhost:8080/"
        },
        "outputId": "a769234f-9922-49ac-8f89-6ed5e9ab275f"
      },
      "source": [
        "train_size = int(len(daily_data) * 0.80)\n",
        "test_size = len(daily_data) - train_size\n",
        "train, test = daily_data.iloc[0:train_size], daily_data.iloc[train_size:len(daily_data)]\n",
        "print(len(train), len(test))"
      ],
      "execution_count": 64,
      "outputs": [
        {
          "output_type": "stream",
          "name": "stdout",
          "text": [
            "1153 289\n"
          ]
        }
      ]
    },
    {
      "cell_type": "code",
      "metadata": {
        "id": "uYVu4Inc8J88"
      },
      "source": [
        "from sklearn.preprocessing import MinMaxScaler\n",
        "f_columns = ['Global_reactive_power',\t'Voltage',\t'Global_intensity',\t'Sub_metering_1',\t'Sub_metering_2',\t'Sub_metering_3']\n",
        "f_transformer = MinMaxScaler()\n",
        "f_transformer = f_transformer.fit(train[f_columns].to_numpy())\n",
        "train.loc[:, f_columns] = f_transformer.transform(train[f_columns].to_numpy())\n",
        "test.loc[:, f_columns] = f_transformer.transform(test[f_columns].to_numpy())"
      ],
      "execution_count": null,
      "outputs": []
    },
    {
      "cell_type": "code",
      "metadata": {
        "id": "Rz1OfP-J8MEc"
      },
      "source": [
        "cnt_transformer = MinMaxScaler()\n",
        "cnt_transformer = cnt_transformer.fit(train[['Global_active_power']])\n",
        "train['Global_active_power'] = cnt_transformer.transform(train[['Global_active_power']])\n",
        "test['Global_active_power'] = cnt_transformer.transform(test[['Global_active_power']])"
      ],
      "execution_count": null,
      "outputs": []
    },
    {
      "cell_type": "markdown",
      "metadata": {
        "id": "_CB_wsxChRWM"
      },
      "source": [
        "**Create Dataset**"
      ]
    },
    {
      "cell_type": "code",
      "metadata": {
        "id": "usstlDbphVTE"
      },
      "source": [
        "def create_dataset(X, y, time_steps=1):\n",
        "    Xs, ys = [], []\n",
        "    for i in range(len(X) - time_steps):\n",
        "        v = X.iloc[i:(i + time_steps),1:].values\n",
        "        Xs.append(v)\n",
        "        ys.append(y.iloc[i + time_steps:i + time_steps+1])\n",
        "    return np.array(Xs), np.array(ys)"
      ],
      "execution_count": 67,
      "outputs": []
    },
    {
      "cell_type": "code",
      "metadata": {
        "id": "PXz9StBZhZy0",
        "colab": {
          "base_uri": "https://localhost:8080/"
        },
        "outputId": "85ccd842-acfe-41b6-9a63-384796d9a897"
      },
      "source": [
        "time_steps = 7\n",
        "# reshape to [samples, time_steps, n_features]\n",
        "X_train, y_train = create_dataset(train, train.Global_active_power, time_steps)\n",
        "X_test, y_test = create_dataset(test, test.Global_active_power, time_steps)\n",
        "print(X_train.shape, y_train.shape)\n",
        "print(X_test.shape, y_test.shape)"
      ],
      "execution_count": 68,
      "outputs": [
        {
          "output_type": "stream",
          "name": "stdout",
          "text": [
            "(1146, 7, 6) (1146, 1)\n",
            "(282, 7, 6) (282, 1)\n"
          ]
        }
      ]
    },
    {
      "cell_type": "markdown",
      "metadata": {
        "id": "orRyoSAphduz"
      },
      "source": [
        "**Our Model**"
      ]
    },
    {
      "cell_type": "code",
      "metadata": {
        "id": "pQYG3gs7hjdL",
        "colab": {
          "base_uri": "https://localhost:8080/"
        },
        "outputId": "1c213f00-4458-455b-afde-f319f037dc04"
      },
      "source": [
        "model = Sequential()\n",
        "model.add(LSTM(128, activation='relu', return_sequences=True))\n",
        "model.add(LSTM(64, activation='relu', return_sequences=False))\n",
        "model.add(RepeatVector(7))\n",
        "model.add(LSTM(64, activation='relu', return_sequences=True))\n",
        "model.add(LSTM(128, activation='relu', return_sequences=True))\n",
        "\n",
        "model.add(Bidirectional(LSTM(128, activation='relu',return_sequences=True)))\n",
        "model.add(LSTM(64, activation='relu', return_sequences=True))\n",
        "# model.add(LSTM(64, activation='relu', return_sequences=True))\n",
        "model.add(Dropout(0.25))\n",
        "model.add(LSTM(64, activation='relu', return_sequences=False))\n",
        "# model.add(LSTM(32, activation='relu', return_sequences=False))\n",
        "model.add(Dropout(0.25))\n",
        "# model.add(Flatten())\n",
        "model.add(Dense(10,activation='relu'))\n",
        "model.add(Dense(1,activation='relu'))\n",
        "# opt = keras.optimizers.Adam(learning_rate=0.001)\n",
        "model.compile(loss='mse', optimizer='adam')\n",
        "model.build(input_shape=(None,X_train.shape[1],X_train.shape[2])) # `input_shape` is the shape of the input data                         # e.g. input_shape = (None, 32, 32, 3)\n",
        "model.summary()"
      ],
      "execution_count": 69,
      "outputs": [
        {
          "output_type": "stream",
          "name": "stdout",
          "text": [
            "Model: \"sequential_3\"\n",
            "_________________________________________________________________\n",
            "Layer (type)                 Output Shape              Param #   \n",
            "=================================================================\n",
            "lstm_21 (LSTM)               (None, 7, 128)            69120     \n",
            "_________________________________________________________________\n",
            "lstm_22 (LSTM)               (None, 64)                49408     \n",
            "_________________________________________________________________\n",
            "repeat_vector_3 (RepeatVecto (None, 7, 64)             0         \n",
            "_________________________________________________________________\n",
            "lstm_23 (LSTM)               (None, 7, 64)             33024     \n",
            "_________________________________________________________________\n",
            "lstm_24 (LSTM)               (None, 7, 128)            98816     \n",
            "_________________________________________________________________\n",
            "bidirectional_3 (Bidirection (None, 7, 256)            263168    \n",
            "_________________________________________________________________\n",
            "lstm_26 (LSTM)               (None, 7, 64)             82176     \n",
            "_________________________________________________________________\n",
            "dropout_6 (Dropout)          (None, 7, 64)             0         \n",
            "_________________________________________________________________\n",
            "lstm_27 (LSTM)               (None, 64)                33024     \n",
            "_________________________________________________________________\n",
            "dropout_7 (Dropout)          (None, 64)                0         \n",
            "_________________________________________________________________\n",
            "dense_6 (Dense)              (None, 10)                650       \n",
            "_________________________________________________________________\n",
            "dense_7 (Dense)              (None, 1)                 11        \n",
            "=================================================================\n",
            "Total params: 629,397\n",
            "Trainable params: 629,397\n",
            "Non-trainable params: 0\n",
            "_________________________________________________________________\n"
          ]
        }
      ]
    },
    {
      "cell_type": "code",
      "metadata": {
        "id": "CLY4MnxKhu0T",
        "colab": {
          "base_uri": "https://localhost:8080/"
        },
        "outputId": "efa27794-ceb8-4a6c-f02a-a59165971a2a"
      },
      "source": [
        "history = model.fit(X_train, y_train, epochs=100, batch_size=128, validation_split=0.3)"
      ],
      "execution_count": 70,
      "outputs": [
        {
          "output_type": "stream",
          "name": "stdout",
          "text": [
            "Epoch 1/100\n",
            "7/7 [==============================] - 10s 306ms/step - loss: 0.1044 - val_loss: 0.0673\n",
            "Epoch 2/100\n",
            "7/7 [==============================] - 1s 143ms/step - loss: 0.0677 - val_loss: 0.0175\n",
            "Epoch 3/100\n",
            "7/7 [==============================] - 1s 145ms/step - loss: 0.0293 - val_loss: 0.0124\n",
            "Epoch 4/100\n",
            "7/7 [==============================] - 1s 146ms/step - loss: 0.0249 - val_loss: 0.0128\n",
            "Epoch 5/100\n",
            "7/7 [==============================] - 1s 143ms/step - loss: 0.0235 - val_loss: 0.0127\n",
            "Epoch 6/100\n",
            "7/7 [==============================] - 1s 141ms/step - loss: 0.0234 - val_loss: 0.0128\n",
            "Epoch 7/100\n",
            "7/7 [==============================] - 1s 143ms/step - loss: 0.0222 - val_loss: 0.0116\n",
            "Epoch 8/100\n",
            "7/7 [==============================] - 1s 146ms/step - loss: 0.0214 - val_loss: 0.0111\n",
            "Epoch 9/100\n",
            "7/7 [==============================] - 1s 145ms/step - loss: 0.0206 - val_loss: 0.0103\n",
            "Epoch 10/100\n",
            "7/7 [==============================] - 1s 144ms/step - loss: 0.0195 - val_loss: 0.0078\n",
            "Epoch 11/100\n",
            "7/7 [==============================] - 1s 142ms/step - loss: 0.0167 - val_loss: 0.0066\n",
            "Epoch 12/100\n",
            "7/7 [==============================] - 1s 143ms/step - loss: 0.0161 - val_loss: 0.0092\n",
            "Epoch 13/100\n",
            "7/7 [==============================] - 1s 144ms/step - loss: 0.0164 - val_loss: 0.0060\n",
            "Epoch 14/100\n",
            "7/7 [==============================] - 1s 145ms/step - loss: 0.0163 - val_loss: 0.0064\n",
            "Epoch 15/100\n",
            "7/7 [==============================] - 1s 144ms/step - loss: 0.0161 - val_loss: 0.0059\n",
            "Epoch 16/100\n",
            "7/7 [==============================] - 1s 144ms/step - loss: 0.0156 - val_loss: 0.0060\n",
            "Epoch 17/100\n",
            "7/7 [==============================] - 1s 143ms/step - loss: 0.0152 - val_loss: 0.0060\n",
            "Epoch 18/100\n",
            "7/7 [==============================] - 1s 143ms/step - loss: 0.0153 - val_loss: 0.0080\n",
            "Epoch 19/100\n",
            "7/7 [==============================] - 1s 144ms/step - loss: 0.0159 - val_loss: 0.0058\n",
            "Epoch 20/100\n",
            "7/7 [==============================] - 1s 144ms/step - loss: 0.0150 - val_loss: 0.0059\n",
            "Epoch 21/100\n",
            "7/7 [==============================] - 1s 142ms/step - loss: 0.0150 - val_loss: 0.0082\n",
            "Epoch 22/100\n",
            "7/7 [==============================] - 1s 145ms/step - loss: 0.0151 - val_loss: 0.0061\n",
            "Epoch 23/100\n",
            "7/7 [==============================] - 1s 144ms/step - loss: 0.0145 - val_loss: 0.0060\n",
            "Epoch 24/100\n",
            "7/7 [==============================] - 1s 147ms/step - loss: 0.0137 - val_loss: 0.0059\n",
            "Epoch 25/100\n",
            "7/7 [==============================] - 1s 147ms/step - loss: 0.0144 - val_loss: 0.0060\n",
            "Epoch 26/100\n",
            "7/7 [==============================] - 1s 144ms/step - loss: 0.0136 - val_loss: 0.0059\n",
            "Epoch 27/100\n",
            "7/7 [==============================] - 1s 145ms/step - loss: 0.0133 - val_loss: 0.0059\n",
            "Epoch 28/100\n",
            "7/7 [==============================] - 1s 144ms/step - loss: 0.0134 - val_loss: 0.0058\n",
            "Epoch 29/100\n",
            "7/7 [==============================] - 1s 145ms/step - loss: 0.0142 - val_loss: 0.0066\n",
            "Epoch 30/100\n",
            "7/7 [==============================] - 1s 144ms/step - loss: 0.0137 - val_loss: 0.0069\n",
            "Epoch 31/100\n",
            "7/7 [==============================] - 1s 146ms/step - loss: 0.0139 - val_loss: 0.0072\n",
            "Epoch 32/100\n",
            "7/7 [==============================] - 1s 145ms/step - loss: 0.0132 - val_loss: 0.0078\n",
            "Epoch 33/100\n",
            "7/7 [==============================] - 1s 144ms/step - loss: 0.0138 - val_loss: 0.0113\n",
            "Epoch 34/100\n",
            "7/7 [==============================] - 1s 143ms/step - loss: 0.0139 - val_loss: 0.0056\n",
            "Epoch 35/100\n",
            "7/7 [==============================] - 1s 148ms/step - loss: 0.0134 - val_loss: 0.0062\n",
            "Epoch 36/100\n",
            "7/7 [==============================] - 1s 148ms/step - loss: 0.0131 - val_loss: 0.0087\n",
            "Epoch 37/100\n",
            "7/7 [==============================] - 1s 143ms/step - loss: 0.0134 - val_loss: 0.0086\n",
            "Epoch 38/100\n",
            "7/7 [==============================] - 1s 145ms/step - loss: 0.0134 - val_loss: 0.0054\n",
            "Epoch 39/100\n",
            "7/7 [==============================] - 1s 146ms/step - loss: 0.0129 - val_loss: 0.0059\n",
            "Epoch 40/100\n",
            "7/7 [==============================] - 1s 144ms/step - loss: 0.0127 - val_loss: 0.0055\n",
            "Epoch 41/100\n",
            "7/7 [==============================] - 1s 144ms/step - loss: 0.0129 - val_loss: 0.0054\n",
            "Epoch 42/100\n",
            "7/7 [==============================] - 1s 143ms/step - loss: 0.0129 - val_loss: 0.0057\n",
            "Epoch 43/100\n",
            "7/7 [==============================] - 1s 145ms/step - loss: 0.0125 - val_loss: 0.0073\n",
            "Epoch 44/100\n",
            "7/7 [==============================] - 1s 142ms/step - loss: 0.0124 - val_loss: 0.0074\n",
            "Epoch 45/100\n",
            "7/7 [==============================] - 1s 145ms/step - loss: 0.0119 - val_loss: 0.0055\n",
            "Epoch 46/100\n",
            "7/7 [==============================] - 1s 144ms/step - loss: 0.0126 - val_loss: 0.0055\n",
            "Epoch 47/100\n",
            "7/7 [==============================] - 1s 145ms/step - loss: 0.0124 - val_loss: 0.0054\n",
            "Epoch 48/100\n",
            "7/7 [==============================] - 1s 145ms/step - loss: 0.0125 - val_loss: 0.0063\n",
            "Epoch 49/100\n",
            "7/7 [==============================] - 1s 145ms/step - loss: 0.0119 - val_loss: 0.0058\n",
            "Epoch 50/100\n",
            "7/7 [==============================] - 1s 144ms/step - loss: 0.0116 - val_loss: 0.0081\n",
            "Epoch 51/100\n",
            "7/7 [==============================] - 1s 148ms/step - loss: 0.0116 - val_loss: 0.0073\n",
            "Epoch 52/100\n",
            "7/7 [==============================] - 1s 143ms/step - loss: 0.0118 - val_loss: 0.0129\n",
            "Epoch 53/100\n",
            "7/7 [==============================] - 1s 145ms/step - loss: 0.0127 - val_loss: 0.0115\n",
            "Epoch 54/100\n",
            "7/7 [==============================] - 1s 146ms/step - loss: 0.0128 - val_loss: 0.0055\n",
            "Epoch 55/100\n",
            "7/7 [==============================] - 1s 144ms/step - loss: 0.0114 - val_loss: 0.0055\n",
            "Epoch 56/100\n",
            "7/7 [==============================] - 1s 145ms/step - loss: 0.0121 - val_loss: 0.0070\n",
            "Epoch 57/100\n",
            "7/7 [==============================] - 1s 147ms/step - loss: 0.0119 - val_loss: 0.0080\n",
            "Epoch 58/100\n",
            "7/7 [==============================] - 1s 146ms/step - loss: 0.0115 - val_loss: 0.0063\n",
            "Epoch 59/100\n",
            "7/7 [==============================] - 1s 146ms/step - loss: 0.0109 - val_loss: 0.0064\n",
            "Epoch 60/100\n",
            "7/7 [==============================] - 1s 145ms/step - loss: 0.0111 - val_loss: 0.0054\n",
            "Epoch 61/100\n",
            "7/7 [==============================] - 1s 145ms/step - loss: 0.0121 - val_loss: 0.0059\n",
            "Epoch 62/100\n",
            "7/7 [==============================] - 1s 146ms/step - loss: 0.0128 - val_loss: 0.0062\n",
            "Epoch 63/100\n",
            "7/7 [==============================] - 1s 145ms/step - loss: 0.0109 - val_loss: 0.0060\n",
            "Epoch 64/100\n",
            "7/7 [==============================] - 1s 147ms/step - loss: 0.0108 - val_loss: 0.0068\n",
            "Epoch 65/100\n",
            "7/7 [==============================] - 1s 146ms/step - loss: 0.0110 - val_loss: 0.0097\n",
            "Epoch 66/100\n",
            "7/7 [==============================] - 1s 148ms/step - loss: 0.0113 - val_loss: 0.0086\n",
            "Epoch 67/100\n",
            "7/7 [==============================] - 1s 144ms/step - loss: 0.0116 - val_loss: 0.0056\n",
            "Epoch 68/100\n",
            "7/7 [==============================] - 1s 144ms/step - loss: 0.0107 - val_loss: 0.0054\n",
            "Epoch 69/100\n",
            "7/7 [==============================] - 1s 148ms/step - loss: 0.0108 - val_loss: 0.0060\n",
            "Epoch 70/100\n",
            "7/7 [==============================] - 1s 144ms/step - loss: 0.0108 - val_loss: 0.0069\n",
            "Epoch 71/100\n",
            "7/7 [==============================] - 1s 144ms/step - loss: 0.0104 - val_loss: 0.0063\n",
            "Epoch 72/100\n",
            "7/7 [==============================] - 1s 145ms/step - loss: 0.0112 - val_loss: 0.0059\n",
            "Epoch 73/100\n",
            "7/7 [==============================] - 1s 144ms/step - loss: 0.0107 - val_loss: 0.0067\n",
            "Epoch 74/100\n",
            "7/7 [==============================] - 1s 145ms/step - loss: 0.0106 - val_loss: 0.0062\n",
            "Epoch 75/100\n",
            "7/7 [==============================] - 1s 144ms/step - loss: 0.0109 - val_loss: 0.0059\n",
            "Epoch 76/100\n",
            "7/7 [==============================] - 1s 148ms/step - loss: 0.0103 - val_loss: 0.0066\n",
            "Epoch 77/100\n",
            "7/7 [==============================] - 1s 148ms/step - loss: 0.0104 - val_loss: 0.0063\n",
            "Epoch 78/100\n",
            "7/7 [==============================] - 1s 145ms/step - loss: 0.0104 - val_loss: 0.0060\n",
            "Epoch 79/100\n",
            "7/7 [==============================] - 1s 146ms/step - loss: 0.0101 - val_loss: 0.0056\n",
            "Epoch 80/100\n",
            "7/7 [==============================] - 1s 145ms/step - loss: 0.0103 - val_loss: 0.0055\n",
            "Epoch 81/100\n",
            "7/7 [==============================] - 1s 146ms/step - loss: 0.0102 - val_loss: 0.0069\n",
            "Epoch 82/100\n",
            "7/7 [==============================] - 1s 144ms/step - loss: 0.0105 - val_loss: 0.0059\n",
            "Epoch 83/100\n",
            "7/7 [==============================] - 1s 147ms/step - loss: 0.0103 - val_loss: 0.0070\n",
            "Epoch 84/100\n",
            "7/7 [==============================] - 1s 146ms/step - loss: 0.0128 - val_loss: 0.0056\n",
            "Epoch 85/100\n",
            "7/7 [==============================] - 1s 145ms/step - loss: 0.0106 - val_loss: 0.0067\n",
            "Epoch 86/100\n",
            "7/7 [==============================] - 1s 147ms/step - loss: 0.0108 - val_loss: 0.0054\n",
            "Epoch 87/100\n",
            "7/7 [==============================] - 1s 146ms/step - loss: 0.0107 - val_loss: 0.0056\n",
            "Epoch 88/100\n",
            "7/7 [==============================] - 1s 147ms/step - loss: 0.0101 - val_loss: 0.0066\n",
            "Epoch 89/100\n",
            "7/7 [==============================] - 1s 143ms/step - loss: 0.0099 - val_loss: 0.0055\n",
            "Epoch 90/100\n",
            "7/7 [==============================] - 1s 147ms/step - loss: 0.0099 - val_loss: 0.0061\n",
            "Epoch 91/100\n",
            "7/7 [==============================] - 1s 147ms/step - loss: 0.0097 - val_loss: 0.0063\n",
            "Epoch 92/100\n",
            "7/7 [==============================] - 1s 144ms/step - loss: 0.0099 - val_loss: 0.0058\n",
            "Epoch 93/100\n",
            "7/7 [==============================] - 1s 143ms/step - loss: 0.0098 - val_loss: 0.0058\n",
            "Epoch 94/100\n",
            "7/7 [==============================] - 1s 145ms/step - loss: 0.0097 - val_loss: 0.0054\n",
            "Epoch 95/100\n",
            "7/7 [==============================] - 1s 146ms/step - loss: 0.0096 - val_loss: 0.0081\n",
            "Epoch 96/100\n",
            "7/7 [==============================] - 1s 145ms/step - loss: 0.0103 - val_loss: 0.0069\n",
            "Epoch 97/100\n",
            "7/7 [==============================] - 1s 148ms/step - loss: 0.0104 - val_loss: 0.0057\n",
            "Epoch 98/100\n",
            "7/7 [==============================] - 1s 145ms/step - loss: 0.0105 - val_loss: 0.0062\n",
            "Epoch 99/100\n",
            "7/7 [==============================] - 1s 143ms/step - loss: 0.0096 - val_loss: 0.0054\n",
            "Epoch 100/100\n",
            "7/7 [==============================] - 1s 145ms/step - loss: 0.0096 - val_loss: 0.0054\n"
          ]
        }
      ]
    },
    {
      "cell_type": "markdown",
      "metadata": {
        "id": "YeZFNb91jxBk"
      },
      "source": [
        "**Plot Validation**"
      ]
    },
    {
      "cell_type": "code",
      "metadata": {
        "id": "DyP8yngCiAMU",
        "colab": {
          "base_uri": "https://localhost:8080/",
          "height": 265
        },
        "outputId": "6530a000-2284-4d1b-f816-aee5f225601b"
      },
      "source": [
        "plt.plot(history.history['loss'] , label='train')\n",
        "plt.plot(history.history['val_loss'], label='validation')\n",
        "plt.show()"
      ],
      "execution_count": 71,
      "outputs": [
        {
          "output_type": "display_data",
          "data": {
            "image/png": "[encoded data removed]",
            "text/plain": [
              "<Figure size 432x288 with 1 Axes>"
            ]
          },
          "metadata": {
            "needs_background": "light"
          }
        }
      ]
    },
    {
      "cell_type": "code",
      "metadata": {
        "id": "WxnfWTAoiYrx",
        "colab": {
          "base_uri": "https://localhost:8080/"
        },
        "outputId": "9309ec47-0af4-498d-ef7e-d8e58e4cd7de"
      },
      "source": [
        "y_pred = model.predict(X_test)\n",
        "\n",
        "y_train_inv = cnt_transformer.inverse_transform(y_train.reshape(1,-1))\n",
        "y_test_inv = cnt_transformer.inverse_transform(y_test.reshape(1,-1))\n",
        "y_pred_inv = cnt_transformer.inverse_transform(y_pred.reshape(1,-1))\n",
        "\n",
        "print(y_test_inv.shape)\n",
        "print(y_pred_inv.shape)\n",
        "\n",
        "testScore = math.sqrt(mean_squared_error(y_test_inv, y_pred_inv))\n",
        "#MAPE=mean_absolute_percentage_error(y_true,y_pred)\n",
        "MAE =mean_absolute_error(y_test_inv, y_pred_inv)\n",
        "\n",
        "print('Test Score: %.2f RMSE' % (testScore))\n",
        "#print('Test Score: %.2f MAPE' % (MAPE))\n",
        "print('Test Score: %.2f MAE' % (MAE))"
      ],
      "execution_count": 72,
      "outputs": [
        {
          "output_type": "stream",
          "name": "stdout",
          "text": [
            "(1, 282)\n",
            "(1, 282)\n",
            "Test Score: 348.24 RMSE\n",
            "Test Score: 249.35 MAE\n"
          ]
        }
      ]
    },
    {
      "cell_type": "markdown",
      "metadata": {
        "id": "ioWadWIbh5Rq"
      },
      "source": [
        "**Plot Result**"
      ]
    },
    {
      "cell_type": "code",
      "metadata": {
        "id": "HfxVtwq7jYvh",
        "colab": {
          "base_uri": "https://localhost:8080/",
          "height": 265
        },
        "outputId": "a5e6041b-15ba-4a1c-83eb-f06eea023459"
      },
      "source": [
        "plt.plot(y_test_inv.flatten(), marker=',',label='true')\n",
        "plt.plot(y_pred_inv.flatten(), marker='|',label='Predicted')\n",
        "plt.show()"
      ],
      "execution_count": 73,
      "outputs": [
        {
          "output_type": "display_data",
          "data": {
            "image/png": "[encoded data removed]",
            "text/plain": [
              "<Figure size 432x288 with 1 Axes>"
            ]
          },
          "metadata": {
            "needs_background": "light"
          }
        }
      ]
    }
  ]
}